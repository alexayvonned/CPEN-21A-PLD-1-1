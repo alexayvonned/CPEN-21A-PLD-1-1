{
  "nbformat": 4,
  "nbformat_minor": 0,
  "metadata": {
    "colab": {
      "provenance": [],
      "authorship_tag": "ABX9TyNhJgXvm4u7lBziubCzL+l1",
      "include_colab_link": true
    },
    "kernelspec": {
      "name": "python3",
      "display_name": "Python 3"
    },
    "language_info": {
      "name": "python"
    }
  },
  "cells": [
    {
      "cell_type": "markdown",
      "metadata": {
        "id": "view-in-github",
        "colab_type": "text"
      },
      "source": [
        "<a href=\"https://colab.research.google.com/github/alexayvonned/CPEN-21A-PLD-1-1/blob/main/Operations_and_Expressions_in_Python.ipynb\" target=\"_parent\"><img src=\"https://colab.research.google.com/assets/colab-badge.svg\" alt=\"Open In Colab\"/></a>"
      ]
    },
    {
      "cell_type": "markdown",
      "source": [
        "##Boolean Operators"
      ],
      "metadata": {
        "id": "kqgdkUoWTAYE"
      }
    },
    {
      "cell_type": "code",
      "source": [
        "a = 10\n",
        "b = 9\n",
        "c = a>b\n",
        "print(10>9)\n",
        "print(10==9)\n",
        "print(10<9)\n",
        "print(c)"
      ],
      "metadata": {
        "colab": {
          "base_uri": "https://localhost:8080/"
        },
        "id": "94zWB-oMWE7x",
        "outputId": "d92bfa4d-763d-4c86-c374-5a98509fa9bc"
      },
      "execution_count": 3,
      "outputs": [
        {
          "output_type": "stream",
          "name": "stdout",
          "text": [
            "True\n",
            "False\n",
            "False\n",
            "True\n"
          ]
        }
      ]
    },
    {
      "cell_type": "code",
      "source": [
        "print(bool(\"Pasado ako this sem\"))\n",
        "print(bool(\"19\"))\n",
        "print(bool(False))\n",
        "print(bool(None))\n",
        "print(bool(0))\n",
        "print(bool({}))\n",
        "print(bool(()))\n",
        "print(bool([]))\n",
        "print(bool([{}]))\n",
        " "
      ],
      "metadata": {
        "colab": {
          "base_uri": "https://localhost:8080/"
        },
        "id": "787bPnrRZiBD",
        "outputId": "605be7ee-8c9d-4f57-fde3-bfda37e6ea6a"
      },
      "execution_count": 31,
      "outputs": [
        {
          "output_type": "stream",
          "name": "stdout",
          "text": [
            "True\n",
            "True\n",
            "False\n",
            "False\n",
            "False\n",
            "False\n",
            "False\n",
            "False\n",
            "True\n"
          ]
        }
      ]
    },
    {
      "cell_type": "code",
      "source": [
        "def myFunction(): return True\n",
        "print(myFunction())\n",
        "if myFunction():\n",
        "  print(\"True\")\n",
        "else:\n",
        "  print(\"False\")"
      ],
      "metadata": {
        "colab": {
          "base_uri": "https://localhost:8080/"
        },
        "id": "DLFf2XFGfBKS",
        "outputId": "ab32c4af-d82e-4ac2-c890-dfb943d592bc"
      },
      "execution_count": 38,
      "outputs": [
        {
          "output_type": "stream",
          "name": "stdout",
          "text": [
            "True\n",
            "True\n"
          ]
        }
      ]
    },
    {
      "cell_type": "code",
      "source": [
        "print(19>17)\n",
        "\n",
        "a = 22\n",
        "b = 10\n",
        "print(a==b)\n",
        "print(a>b)\n",
        "print(a!=a)\n",
        "print(a<b)\n",
        "print(a!=b)\n",
        "print(b==b)"
      ],
      "metadata": {
        "colab": {
          "base_uri": "https://localhost:8080/"
        },
        "id": "zR2jifQHhkqJ",
        "outputId": "7f793e3a-a79d-4340-d4c1-1913a7776412"
      },
      "execution_count": 41,
      "outputs": [
        {
          "output_type": "stream",
          "name": "stdout",
          "text": [
            "True\n",
            "False\n",
            "True\n",
            "False\n",
            "False\n",
            "True\n",
            "True\n"
          ]
        }
      ]
    },
    {
      "cell_type": "markdown",
      "source": [
        "##Python Operators"
      ],
      "metadata": {
        "id": "cT1AJgHoihuz"
      }
    },
    {
      "cell_type": "code",
      "source": [
        "print(22+10)\n",
        "print(22-10)\n",
        "print(22*10)\n",
        "print(22/10)\n",
        "print(22%10)\n",
        "print(22//10)\n",
        "print(2**8)"
      ],
      "metadata": {
        "colab": {
          "base_uri": "https://localhost:8080/"
        },
        "id": "xHcjnZccilOv",
        "outputId": "267f4164-6847-4be0-f6ae-4c50b639952e"
      },
      "execution_count": 47,
      "outputs": [
        {
          "output_type": "stream",
          "name": "stdout",
          "text": [
            "32\n",
            "12\n",
            "220\n",
            "2.2\n",
            "2\n",
            "2\n",
            "256\n"
          ]
        }
      ]
    },
    {
      "cell_type": "markdown",
      "source": [
        "##Bitwise Operators"
      ],
      "metadata": {
        "id": "YbYHMvtNkd2A"
      }
    },
    {
      "cell_type": "code",
      "source": [
        "a = 28\n",
        "b = 20\n",
        "\n",
        "print(a & b)\n",
        "print(a|b)\n",
        "print(a^b)\n",
        "print(~a)\n",
        "print(~b)\n",
        "print(a>>2)\n",
        "print(a<<2)"
      ],
      "metadata": {
        "colab": {
          "base_uri": "https://localhost:8080/"
        },
        "id": "9WU4Ocndkiwr",
        "outputId": "c0411ced-3327-4358-9dbe-229b84597158"
      },
      "execution_count": 53,
      "outputs": [
        {
          "output_type": "stream",
          "name": "stdout",
          "text": [
            "20\n",
            "28\n",
            "8\n",
            "-29\n",
            "-21\n",
            "7\n",
            "112\n"
          ]
        }
      ]
    },
    {
      "cell_type": "markdown",
      "source": [
        "##Assignment Operators"
      ],
      "metadata": {
        "id": "ap92j4Afqd-u"
      }
    },
    {
      "cell_type": "code",
      "source": [
        "x = 2\n",
        "x+=3 #Same As x = x + 3\n",
        "print(x)\n",
        "\n",
        "x = 2\n",
        "x-=3 #Same As x =  x - 3\n",
        "print(x)\n",
        "\n",
        "x = 2\n",
        "x*=3 #same As x = x * 3\n",
        "print(x)\n",
        "\n",
        "x = 2\n",
        "x/=3 #Same As x = x / 3\n",
        "print(x)\n",
        "\n",
        "x = 2\n",
        "x%=3 #Same As x = x % 3\n",
        "print(x)"
      ],
      "metadata": {
        "colab": {
          "base_uri": "https://localhost:8080/"
        },
        "id": "5j-7L9OGqio6",
        "outputId": "df4c7ec4-bb68-4205-dabb-b826e6aa3abc"
      },
      "execution_count": 73,
      "outputs": [
        {
          "output_type": "stream",
          "name": "stdout",
          "text": [
            "5\n",
            "-1\n",
            "6\n",
            "0.6666666666666666\n",
            "2\n"
          ]
        }
      ]
    },
    {
      "cell_type": "markdown",
      "source": [
        "##Logical Operators"
      ],
      "metadata": {
        "id": "Bnbnh22Jt3vG"
      }
    },
    {
      "cell_type": "code",
      "source": [
        "a = 19\n",
        "b = 27\n",
        "\n",
        "print(a>b and a==b)\n",
        "print(a<b or b==a)\n"
      ],
      "metadata": {
        "colab": {
          "base_uri": "https://localhost:8080/"
        },
        "id": "AJ_3QG1ht6J4",
        "outputId": "b6aad908-7c0d-4416-89b4-328a270dcaa0"
      },
      "execution_count": 79,
      "outputs": [
        {
          "output_type": "stream",
          "name": "stdout",
          "text": [
            "False\n",
            "True\n"
          ]
        }
      ]
    },
    {
      "cell_type": "markdown",
      "source": [
        "##Identity Operator"
      ],
      "metadata": {
        "id": "Y3TsPLnd0ZQb"
      }
    },
    {
      "cell_type": "code",
      "source": [
        "print(a is b) \n",
        "print(a is not b)"
      ],
      "metadata": {
        "colab": {
          "base_uri": "https://localhost:8080/"
        },
        "id": "zgsf40KT0bcf",
        "outputId": "3062b345-5caf-4035-cfcd-41af7db28c11"
      },
      "execution_count": 80,
      "outputs": [
        {
          "output_type": "stream",
          "name": "stdout",
          "text": [
            "False\n",
            "True\n"
          ]
        }
      ]
    }
  ]
}