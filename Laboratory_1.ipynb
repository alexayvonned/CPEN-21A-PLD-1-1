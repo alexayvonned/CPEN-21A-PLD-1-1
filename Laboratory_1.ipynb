{
  "nbformat": 4,
  "nbformat_minor": 0,
  "metadata": {
    "colab": {
      "provenance": [],
      "authorship_tag": "ABX9TyOQBUD4j8J5nm97+tCy5jUx",
      "include_colab_link": true
    },
    "kernelspec": {
      "name": "python3",
      "display_name": "Python 3"
    },
    "language_info": {
      "name": "python"
    }
  },
  "cells": [
    {
      "cell_type": "markdown",
      "metadata": {
        "id": "view-in-github",
        "colab_type": "text"
      },
      "source": [
        "<a href=\"https://colab.research.google.com/github/alexayvonned/CPEN-21A-PLD-1-1/blob/main/Laboratory_1.ipynb\" target=\"_parent\"><img src=\"https://colab.research.google.com/assets/colab-badge.svg\" alt=\"Open In Colab\"/></a>"
      ]
    },
    {
      "cell_type": "markdown",
      "source": [
        "###Problem 1"
      ],
      "metadata": {
        "id": "vYN-gJhWHD3w"
      }
    },
    {
      "cell_type": "code",
      "source": [
        "n = 20\n",
        "totalnumbers = n\n",
        "sum = 0\n",
        "average = 0\n",
        "\n",
        "while n>=0:\n",
        "  sum +=n\n",
        "  n-=1\n",
        "print(\"sum=\", sum)\n",
        "\n",
        "average = sum/totalnumbers\n",
        "print(\"Average =\", average)\n",
        "\n",
        "\n",
        "\n"
      ],
      "metadata": {
        "colab": {
          "base_uri": "https://localhost:8080/"
        },
        "id": "rNJGPr3zHGY5",
        "outputId": "7d5c53fc-98b6-4fcb-e15b-a1c91a0add12"
      },
      "execution_count": 31,
      "outputs": [
        {
          "output_type": "stream",
          "name": "stdout",
          "text": [
            "sum= 210\n",
            "Average = 10.5\n"
          ]
        }
      ]
    },
    {
      "cell_type": "markdown",
      "source": [
        "###Problem 2"
      ],
      "metadata": {
        "id": "5tE49wcTPWlE"
      }
    },
    {
      "cell_type": "code",
      "source": [
        "class Student:\n",
        "  def __init__(self, Name, Student_No, Age, School, Course):\n",
        "    self.Name = Name\n",
        "    self.Student_No = Student_No\n",
        "    self.Age = Age\n",
        "    self.School = School\n",
        "    self.Course = Course\n",
        "\n",
        "Myself = Student(\"Yvonne\", 202203034, 18, \"CvSU\", \"BSCpE\")\n",
        "print(\"I am\",Myself.Name)\n",
        "print(\"My student number is\", Myself.Student_No)\n",
        "print(\"I am\", Myself.Age, \"years old\")\n",
        "print(\"The name of of my school is\", Myself.School)\n",
        "print(\"My course is\", Myself.Course)\n"
      ],
      "metadata": {
        "colab": {
          "base_uri": "https://localhost:8080/"
        },
        "id": "fdOPf-2vPZwS",
        "outputId": "1021223c-9a5a-462a-da43-9ae782bd694a"
      },
      "execution_count": 29,
      "outputs": [
        {
          "output_type": "stream",
          "name": "stdout",
          "text": [
            "I am Yvonne\n",
            "My student number is 202203034\n",
            "I am 18 years old\n",
            "The name of of my school is CvSU\n",
            "My course is BSCpE\n"
          ]
        }
      ]
    }
  ]
}