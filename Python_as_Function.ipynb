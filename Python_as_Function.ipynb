{
  "nbformat": 4,
  "nbformat_minor": 0,
  "metadata": {
    "colab": {
      "provenance": [],
      "authorship_tag": "ABX9TyMoWBBJXXQN1VvUV8SNHSmk",
      "include_colab_link": true
    },
    "kernelspec": {
      "name": "python3",
      "display_name": "Python 3"
    },
    "language_info": {
      "name": "python"
    }
  },
  "cells": [
    {
      "cell_type": "markdown",
      "metadata": {
        "id": "view-in-github",
        "colab_type": "text"
      },
      "source": [
        "<a href=\"https://colab.research.google.com/github/alexayvonned/CPEN-21A-PLD-1-1/blob/main/Python_as_Function.ipynb\" target=\"_parent\"><img src=\"https://colab.research.google.com/assets/colab-badge.svg\" alt=\"Open In Colab\"/></a>"
      ]
    },
    {
      "cell_type": "markdown",
      "source": [
        "###Function Calls"
      ],
      "metadata": {
        "id": "3bIn7bXtVriP"
      }
    },
    {
      "cell_type": "code",
      "source": [
        "abs(-10.6)"
      ],
      "metadata": {
        "colab": {
          "base_uri": "https://localhost:8080/"
        },
        "id": "8n8S2zqAVulN",
        "outputId": "268defb2-9b6a-45ad-b67c-4bd3a3d06d43"
      },
      "execution_count": 3,
      "outputs": [
        {
          "output_type": "execute_result",
          "data": {
            "text/plain": [
              "10.6"
            ]
          },
          "metadata": {},
          "execution_count": 3
        }
      ]
    },
    {
      "cell_type": "markdown",
      "source": [
        "###Function Calls other function"
      ],
      "metadata": {
        "id": "wqBcvfHGV7vM"
      }
    },
    {
      "cell_type": "code",
      "source": [
        "pow(abs(-2), round(10.6))     #pow(2,11)"
      ],
      "metadata": {
        "colab": {
          "base_uri": "https://localhost:8080/"
        },
        "id": "lOeWMArYWBFY",
        "outputId": "2a022e22-f4ff-4cd9-8cd7-b932c8a94800"
      },
      "execution_count": 4,
      "outputs": [
        {
          "output_type": "execute_result",
          "data": {
            "text/plain": [
              "2048"
            ]
          },
          "metadata": {},
          "execution_count": 4
        }
      ]
    },
    {
      "cell_type": "markdown",
      "source": [
        "###Type code function"
      ],
      "metadata": {
        "id": "-lXavUfqX9yV"
      }
    },
    {
      "cell_type": "code",
      "source": [
        "print(int(10.6))\n",
        "print(float(10))"
      ],
      "metadata": {
        "colab": {
          "base_uri": "https://localhost:8080/"
        },
        "id": "3mqyEy4YYA5o",
        "outputId": "6f0de0fa-9591-485c-ed64-655130350fba"
      },
      "execution_count": 8,
      "outputs": [
        {
          "output_type": "stream",
          "name": "stdout",
          "text": [
            "10\n",
            "10.0\n"
          ]
        }
      ]
    },
    {
      "cell_type": "markdown",
      "source": [
        "###Defining own function"
      ],
      "metadata": {
        "id": "ahgOqMoodd_g"
      }
    },
    {
      "cell_type": "code",
      "source": [
        "def convert_to_celsius(kelvin):\n",
        "  celsius = kelvin-273.15\n",
        "  return celsius\n",
        "\n",
        "kelvin = float(input(\"Enter a temperature in kelvin:\"))\n",
        "\n",
        "k=convert_to_celsius(kelvin)\n",
        "print(k)\n",
        "\n",
        "\n"
      ],
      "metadata": {
        "colab": {
          "base_uri": "https://localhost:8080/"
        },
        "id": "JdWCcU6Kdh1V",
        "outputId": "6eae0dd7-6893-4415-c7bd-b4352e25d298"
      },
      "execution_count": 22,
      "outputs": [
        {
          "output_type": "stream",
          "name": "stdout",
          "text": [
            "Enter a temperature in kelvin:298.15\n",
            "25.0\n"
          ]
        }
      ]
    },
    {
      "cell_type": "markdown",
      "source": [
        "###Exercises"
      ],
      "metadata": {
        "id": "kn5dzRnY5SS9"
      }
    },
    {
      "cell_type": "code",
      "source": [
        "print(min(2,3,4))\n",
        "print(max(2, -3, 4, 7, -5))\n",
        "print(max(2, -3), min(4, 7), -5)"
      ],
      "metadata": {
        "colab": {
          "base_uri": "https://localhost:8080/"
        },
        "id": "6GgaVntQ5VN7",
        "outputId": "1142e8cc-6a36-419e-bf98-c22d9dd6d778"
      },
      "execution_count": 26,
      "outputs": [
        {
          "output_type": "stream",
          "name": "stdout",
          "text": [
            "2\n",
            "7\n",
            "2 4 -5\n"
          ]
        }
      ]
    }
  ]
}