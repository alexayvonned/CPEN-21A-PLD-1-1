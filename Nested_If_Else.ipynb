{
  "nbformat": 4,
  "nbformat_minor": 0,
  "metadata": {
    "colab": {
      "provenance": [],
      "authorship_tag": "ABX9TyNprL85rSfMWAKpjkf9O057",
      "include_colab_link": true
    },
    "kernelspec": {
      "name": "python3",
      "display_name": "Python 3"
    },
    "language_info": {
      "name": "python"
    }
  },
  "cells": [
    {
      "cell_type": "markdown",
      "metadata": {
        "id": "view-in-github",
        "colab_type": "text"
      },
      "source": [
        "<a href=\"https://colab.research.google.com/github/alexayvonned/CPEN-21A-PLD-1-1/blob/main/Nested_If_Else.ipynb\" target=\"_parent\"><img src=\"https://colab.research.google.com/assets/colab-badge.svg\" alt=\"Open In Colab\"/></a>"
      ]
    },
    {
      "cell_type": "markdown",
      "source": [
        "##Example 1"
      ],
      "metadata": {
        "id": "I9HuvMdg5LJD"
      }
    },
    {
      "cell_type": "code",
      "source": [
        "x = int(input(\"Type your age:\"))\n",
        "if x>18:\n",
        "  print(\"qualified to vote\")\n",
        "elif x<18:\n",
        "  print(\"not qualified to vote\")\n",
        "else:\n",
        "  print(\"qualified to vote\")"
      ],
      "metadata": {
        "colab": {
          "base_uri": "https://localhost:8080/"
        },
        "id": "pSP403OM5NsJ",
        "outputId": "b12f42b8-684a-4660-edc1-b3cac77f6a90"
      },
      "execution_count": 2,
      "outputs": [
        {
          "output_type": "stream",
          "name": "stdout",
          "text": [
            "Type your age:18\n",
            "qualified to vote\n"
          ]
        }
      ]
    },
    {
      "cell_type": "markdown",
      "source": [
        "##Example 2"
      ],
      "metadata": {
        "id": "4qX8YDLD7cdF"
      }
    },
    {
      "cell_type": "code",
      "source": [
        "x = float(input(\"Type a number\"))\n",
        "if x>0:\n",
        "  print(\"positive\")\n",
        "elif x<0:\n",
        "  print(\"negative\")\n",
        "else:\n",
        "  print(\"zero\")\n"
      ],
      "metadata": {
        "colab": {
          "base_uri": "https://localhost:8080/"
        },
        "id": "-ugp_l6u7egz",
        "outputId": "8acdbe65-2727-48f2-ba19-d1e4eb55bd0e"
      },
      "execution_count": 4,
      "outputs": [
        {
          "output_type": "stream",
          "name": "stdout",
          "text": [
            "Type a number22\n",
            "positive\n"
          ]
        }
      ]
    },
    {
      "cell_type": "markdown",
      "source": [
        "##Example 3"
      ],
      "metadata": {
        "id": "7ZvTXgPO9elF"
      }
    },
    {
      "cell_type": "code",
      "source": [
        "x = float(input(\"Type the grade\"))\n",
        "if x>=75:\n",
        "  print(\"Passed\")\n",
        "elif x==74:\n",
        "  print(\"Failed\")\n",
        "elif x<0:\n",
        "  print(\"Not Accepted\")\n",
        "else:\n",
        "  print(\"Failed\")\n",
        "  "
      ],
      "metadata": {
        "colab": {
          "base_uri": "https://localhost:8080/"
        },
        "id": "q9AWI7_u9hs_",
        "outputId": "73f2c1a1-c66a-4e2c-aa1e-24bd4c6fb472"
      },
      "execution_count": 13,
      "outputs": [
        {
          "output_type": "stream",
          "name": "stdout",
          "text": [
            "Type the grade91\n",
            "Passed\n"
          ]
        }
      ]
    }
  ]
}