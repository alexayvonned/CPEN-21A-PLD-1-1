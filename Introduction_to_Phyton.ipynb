{
  "nbformat": 4,
  "nbformat_minor": 0,
  "metadata": {
    "colab": {
      "provenance": [],
      "authorship_tag": "ABX9TyPEK7hl9DtNcNX34MMjYzOz",
      "include_colab_link": true
    },
    "kernelspec": {
      "name": "python3",
      "display_name": "Python 3"
    },
    "language_info": {
      "name": "python"
    }
  },
  "cells": [
    {
      "cell_type": "markdown",
      "metadata": {
        "id": "view-in-github",
        "colab_type": "text"
      },
      "source": [
        "<a href=\"https://colab.research.google.com/github/alexayvonned/CPEN-21A-PLD-1-1/blob/main/Introduction_to_Phyton.ipynb\" target=\"_parent\"><img src=\"https://colab.research.google.com/assets/colab-badge.svg\" alt=\"Open In Colab\"/></a>"
      ]
    },
    {
      "cell_type": "markdown",
      "source": [
        "#Indentation"
      ],
      "metadata": {
        "id": "ZFAQgFS6oi_z"
      }
    },
    {
      "cell_type": "code",
      "source": [
        "if 5>3:\n",
        "  print(\"5 is greater than 3\")   #This is a comment"
      ],
      "metadata": {
        "colab": {
          "base_uri": "https://localhost:8080/"
        },
        "id": "YpmeChuKpMIo",
        "outputId": "56e0de86-3944-42aa-91c7-ad05bf7dbcd4"
      },
      "execution_count": 2,
      "outputs": [
        {
          "output_type": "stream",
          "name": "stdout",
          "text": [
            "5 is greater than 3\n"
          ]
        }
      ]
    },
    {
      "cell_type": "markdown",
      "source": [
        "Variable Declaration"
      ],
      "metadata": {
        "id": "JQYMriMqttzN"
      }
    },
    {
      "cell_type": "code",
      "source": [
        "#variable with a single value\n",
        "x=5\n",
        "y=3\n",
        "if x<y:\n",
        "  print(\"x is greater than y\")\n",
        "else:\n",
        "  print(\"y is greater than x\")\n",
        "\n",
        "#variable with multiple values\n",
        "\n",
        "a,b = 1,2\n",
        "print(\"The value of a is\", a)\n",
        "print(\"The value of b is\", b)\n",
        "\n",
        "#multiple variables with a single value\n",
        "\n",
        "p = q = r = 'Mam'\n",
        "print(p)\n",
        "print(q)\n",
        "print(r)"
      ],
      "metadata": {
        "colab": {
          "base_uri": "https://localhost:8080/"
        },
        "id": "A91AJJyCt72M",
        "outputId": "68d901e4-537e-4ada-a1fe-1c0750fc0edf"
      },
      "execution_count": 13,
      "outputs": [
        {
          "output_type": "stream",
          "name": "stdout",
          "text": [
            "y is greater than x\n",
            "The value of a is 1\n",
            "The value of b is 2\n",
            "Mam\n",
            "Mam\n",
            "Mam\n"
          ]
        }
      ]
    },
    {
      "cell_type": "markdown",
      "source": [
        "Output  Variable"
      ],
      "metadata": {
        "id": "H1KWzs0nA1fM"
      }
    },
    {
      "cell_type": "code",
      "source": [
        "o = 'is enjoying'\n",
        "print(\"Python programming\"+\" \"+ o)   #append is enjoying"
      ],
      "metadata": {
        "colab": {
          "base_uri": "https://localhost:8080/"
        },
        "id": "Th6nOMQWA4__",
        "outputId": "3251df37-b053-475d-b365-a3f72784eb52"
      },
      "execution_count": 15,
      "outputs": [
        {
          "output_type": "stream",
          "name": "stdout",
          "text": [
            "Python programming is enjoying\n"
          ]
        }
      ]
    },
    {
      "cell_type": "markdown",
      "source": [
        "#Casting and Type() function"
      ],
      "metadata": {
        "id": "v0MNE66a1oCn"
      }
    },
    {
      "cell_type": "code",
      "source": [
        "f = int(4)   #integer\n",
        "g=float(4)   #decimal/fractional\n",
        "\n",
        "print(f)\n",
        "print(g)\n",
        "\n",
        "print(type(f))\n",
        "print(type(g))"
      ],
      "metadata": {
        "colab": {
          "base_uri": "https://localhost:8080/"
        },
        "id": "kw5zf51G1vSB",
        "outputId": "f5e3fb4c-d758-4a4e-9f6c-0666a1af3978"
      },
      "execution_count": 8,
      "outputs": [
        {
          "output_type": "stream",
          "name": "stdout",
          "text": [
            "4\n",
            "4.0\n",
            "<class 'int'>\n",
            "<class 'float'>\n"
          ]
        }
      ]
    },
    {
      "cell_type": "markdown",
      "source": [
        "Double quote or single quote"
      ],
      "metadata": {
        "id": "ldxBKn2A3r6M"
      }
    },
    {
      "cell_type": "code",
      "source": [
        "name = \"Alexa\"\n",
        "name1 = 'Yvonne'\n",
        "\n",
        "print(name)\n",
        "print(name1)"
      ],
      "metadata": {
        "colab": {
          "base_uri": "https://localhost:8080/"
        },
        "id": "U8NVaQJ03xQf",
        "outputId": "2f660e31-bd77-4815-d49b-ded609ab99ef"
      },
      "execution_count": 9,
      "outputs": [
        {
          "output_type": "stream",
          "name": "stdout",
          "text": [
            "Alexa\n",
            "Yvonne\n"
          ]
        }
      ]
    },
    {
      "cell_type": "markdown",
      "source": [
        "Case Sensitive"
      ],
      "metadata": {
        "id": "js62Rw5d5bkK"
      }
    },
    {
      "cell_type": "code",
      "source": [
        "a = 'Gab'\n",
        "print(a)"
      ],
      "metadata": {
        "colab": {
          "base_uri": "https://localhost:8080/"
        },
        "id": "iL1MTDfE5mcv",
        "outputId": "c445f55d-a6a6-4f1c-c689-1303beecd654"
      },
      "execution_count": 11,
      "outputs": [
        {
          "output_type": "stream",
          "name": "stdout",
          "text": [
            "Gab\n"
          ]
        }
      ]
    }
  ]
}