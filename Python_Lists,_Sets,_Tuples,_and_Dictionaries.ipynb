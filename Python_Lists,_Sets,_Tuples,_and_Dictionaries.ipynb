{
  "nbformat": 4,
  "nbformat_minor": 0,
  "metadata": {
    "colab": {
      "provenance": [],
      "authorship_tag": "ABX9TyOBXuM3qhb0OYHLCpVUbFw+",
      "include_colab_link": true
    },
    "kernelspec": {
      "name": "python3",
      "display_name": "Python 3"
    },
    "language_info": {
      "name": "python"
    }
  },
  "cells": [
    {
      "cell_type": "markdown",
      "metadata": {
        "id": "view-in-github",
        "colab_type": "text"
      },
      "source": [
        "<a href=\"https://colab.research.google.com/github/alexayvonned/CPEN-21A-PLD-1-1/blob/main/Python_Lists%2C_Sets%2C_Tuples%2C_and_Dictionaries.ipynb\" target=\"_parent\"><img src=\"https://colab.research.google.com/assets/colab-badge.svg\" alt=\"Open In Colab\"/></a>"
      ]
    },
    {
      "cell_type": "code",
      "source": [
        "pi = 3.14159\n",
        "varList = [1, 2, \"A\", \"B\", \"Hello\", pi]\n",
        "print(varList[2])\n",
        "\n",
        "varList.append(\"World\")\n",
        "print(varList)\n",
        "\n",
        "varList.remove(pi)\n",
        "print(varList[5])\n",
        "print(varList)\n",
        "\n"
      ],
      "metadata": {
        "colab": {
          "base_uri": "https://localhost:8080/"
        },
        "id": "HL1GR0XM1GB6",
        "outputId": "67807912-e952-4302-e669-e759dee67039"
      },
      "execution_count": 2,
      "outputs": [
        {
          "output_type": "stream",
          "name": "stdout",
          "text": [
            "A\n",
            "[1, 2, 'A', 'B', 'Hello', 3.14159, 'World']\n",
            "World\n",
            "[1, 2, 'A', 'B', 'Hello', 'World']\n"
          ]
        }
      ]
    },
    {
      "cell_type": "markdown",
      "source": [
        "###Python Dictionary"
      ],
      "metadata": {
        "id": "wrBx19mS1xYG"
      }
    },
    {
      "cell_type": "code",
      "source": [
        "thisdict = {\"name\": \"Athena\", \"age\": \"6\", \"bday\": \"October 16, 2016\", \"hobbies\": [\"dancing, singing\"]}\n",
        "print(thisdict)\n",
        "print(thisdict[\"name\"])\n",
        "print(thisdict[\"age\"])\n",
        "print(thisdict[\"hobbies\"])"
      ],
      "metadata": {
        "colab": {
          "base_uri": "https://localhost:8080/"
        },
        "id": "gHnbGc9X12dH",
        "outputId": "0f6bddfb-ea2e-40cc-db3b-d926936eeb2a"
      },
      "execution_count": 11,
      "outputs": [
        {
          "output_type": "stream",
          "name": "stdout",
          "text": [
            "{'name': 'Athena', 'age': '6', 'bday': 'October 16, 2016', 'hobbies': ['dancing, singing']}\n",
            "Athena\n",
            "6\n",
            "['dancing, singing']\n"
          ]
        }
      ]
    },
    {
      "cell_type": "code",
      "source": [
        "varList = [0, 1, 2, 3, 4]\n",
        "print(varList)\n",
        "varList = range(0,5,3)\n",
        "print([var for var in varList])   \n",
        "\n",
        "def gen_num_up_to(n):\n",
        "  num = 0\n",
        "  while num < n:\n",
        "    yield num\n",
        "    num +=2\n",
        "varList = gen_num_up_to(4)\n",
        "print([var for var in varList])"
      ],
      "metadata": {
        "colab": {
          "base_uri": "https://localhost:8080/"
        },
        "id": "wLYUIgNM3GTy",
        "outputId": "32ffacc3-3df9-4c2c-8b64-1d7f5df854c7"
      },
      "execution_count": 25,
      "outputs": [
        {
          "output_type": "stream",
          "name": "stdout",
          "text": [
            "[0, 1, 2, 3, 4]\n",
            "[0, 3]\n",
            "[0, 2]\n"
          ]
        }
      ]
    },
    {
      "cell_type": "markdown",
      "source": [
        "###Slicing"
      ],
      "metadata": {
        "id": "PFccTUqr3icT"
      }
    },
    {
      "cell_type": "code",
      "source": [
        " varList = [0,1,2,3,4,5,6,7,8,9]\n",
        " print(varList[:6])\n",
        " print(varList[6:])\n",
        " print(varList[:-1])\n",
        " print(varList[-3:])\n",
        " print(varList[1:-1])\n",
        " print(varList[0:10:2])"
      ],
      "metadata": {
        "colab": {
          "base_uri": "https://localhost:8080/"
        },
        "id": "AQHIhc3g3mDG",
        "outputId": "a8e1967e-5b8f-4428-c9a6-ca99cc2dbeef"
      },
      "execution_count": 36,
      "outputs": [
        {
          "output_type": "stream",
          "name": "stdout",
          "text": [
            "[0, 1, 2, 3, 4, 5]\n",
            "[6, 7, 8, 9]\n",
            "[0, 1, 2, 3, 4, 5, 6, 7, 8]\n",
            "[7, 8, 9]\n",
            "[1, 2, 3, 4, 5, 6, 7, 8]\n",
            "[0, 2, 4, 6, 8]\n"
          ]
        }
      ]
    }
  ]
}