{
  "nbformat": 4,
  "nbformat_minor": 0,
  "metadata": {
    "colab": {
      "provenance": [],
      "authorship_tag": "ABX9TyOv12yRc5/o46tz/gGHfN7f",
      "include_colab_link": true
    },
    "kernelspec": {
      "name": "python3",
      "display_name": "Python 3"
    },
    "language_info": {
      "name": "python"
    }
  },
  "cells": [
    {
      "cell_type": "markdown",
      "metadata": {
        "id": "view-in-github",
        "colab_type": "text"
      },
      "source": [
        "<a href=\"https://colab.research.google.com/github/alexayvonned/CPEN-21A-PLD-1-1/blob/main/Object_and_Class.ipynb\" target=\"_parent\"><img src=\"https://colab.research.google.com/assets/colab-badge.svg\" alt=\"Open In Colab\"/></a>"
      ]
    },
    {
      "cell_type": "markdown",
      "source": [
        "##Creating Class and object"
      ],
      "metadata": {
        "id": "LPZIVLDmvo4L"
      }
    },
    {
      "cell_type": "code",
      "source": [
        "class Person:                                         #creating class named as person\n",
        "  def __init__(self, name, age):\n",
        "    self.name = name\n",
        "    self.age = age\n",
        "\n",
        "person = Person(\"Yvonne\", 18)                         #creating object name\n",
        "print(\"My name is\", person.name)\n",
        "print(\"I am\", person.age, \"years old\")\n",
        "\n",
        "class Student(Person):\n",
        "  pass\n",
        "\n",
        "person2 = Student(\"Athena\", 20)\n",
        "print(\"I am\", person2.name)\n",
        "print(\"My age is\", person2.age)"
      ],
      "metadata": {
        "colab": {
          "base_uri": "https://localhost:8080/"
        },
        "id": "XLcz-Recvs-_",
        "outputId": "3356d7eb-6cd7-4417-9c57-909b49aca245"
      },
      "execution_count": 9,
      "outputs": [
        {
          "output_type": "stream",
          "name": "stdout",
          "text": [
            "My name is Yvonne\n",
            "I am 18 years old\n",
            "I am Athena\n",
            "My age is 20\n"
          ]
        }
      ]
    },
    {
      "cell_type": "markdown",
      "source": [
        "##Application 1"
      ],
      "metadata": {
        "id": "xdYpB95CyTXN"
      }
    },
    {
      "cell_type": "code",
      "source": [
        "class Shape:                                           #parent class\n",
        "  def __init__(shape, area, perimeter):\n",
        "    shape.area = area\n",
        "    shape.perimeter = perimeter\n",
        " \n",
        "shape = Shape(36, 24) \n",
        "print(\"The area of the shape is\", shape.area)\n",
        "print(\"The perimeter of the shape is\", shape.perimeter)\n",
        "\n",
        "class Square(Shape):                                  #child class\n",
        "    pass\n",
        "\n",
        "shape1 = Square(25, 20)\n",
        "print(\"The area of square is\", shape1.area)\n",
        "print(\"The perimeter of the sqaure is\", shape1.perimeter)\n"
      ],
      "metadata": {
        "colab": {
          "base_uri": "https://localhost:8080/"
        },
        "id": "H-0u1f5ByXXp",
        "outputId": "7eb9aea8-a484-45b0-9aaf-6d759a230902"
      },
      "execution_count": 36,
      "outputs": [
        {
          "output_type": "stream",
          "name": "stdout",
          "text": [
            "The area of the shape is 36\n",
            "The perimeter of the shape is 24\n",
            "The area of square is 25\n",
            "The perimeter of the sqaure is 20\n"
          ]
        }
      ]
    },
    {
      "cell_type": "markdown",
      "source": [],
      "metadata": {
        "id": "HOfE_QnUySAn"
      }
    }
  ]
}